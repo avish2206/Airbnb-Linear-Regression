{
 "cells": [
  {
   "cell_type": "code",
   "execution_count": 26,
   "metadata": {},
   "outputs": [
    {
     "name": "stdout",
     "output_type": "stream",
     "text": [
      "Equation of straight line: y=4.68x + 0.14\n"
     ]
    },
    {
     "data": {
      "image/png": "[encoded data removed]",
      "text/plain": [
       "<matplotlib.figure.Figure at 0x2468eadaba8>"
      ]
     },
     "metadata": {},
     "output_type": "display_data"
    }
   ],
   "source": [
    "## Writing my own stochastic gradient descent, batch gradient descent and matrix solution to OLS.\n",
    "\n",
    "import pandas as pd\n",
    "import numpy as np\n",
    "import matplotlib.pyplot as plt\n",
    "\n",
    "def calcCost(diff):\n",
    "    return 0.5*np.mean(np.multiply(diff,diff))\n",
    "\n",
    "# batch gradient descent (use all samples for each iteration)\n",
    "def bgd(alpha,theta,area,prices):\n",
    "    h_prices = np.matmul(theta.T,area.T) # hypothesis prices\n",
    "    diff = np.subtract(h_prices,prices)\n",
    "    theta[0] = theta[0] - 0.5*alpha[0]*np.mean(diff) \n",
    "    deriv = np.multiply(diff,area[:,1])\n",
    "    theta[1] = theta[1] - 0.5*alpha[1]*np.mean(deriv)\n",
    "    print('Cost: %.3f, theta %.3f %.3f'%(calcCost(diff),theta[0],theta[1]))\n",
    "    return theta\n",
    "\n",
    "# stochastic gradient descent (change theta each sample)\n",
    "def sgd(alpha,theta,area,prices):\n",
    "    for index in range(0,prices.size):\n",
    "        h_price = theta[0] + theta[1] * area[index,1] # hypothesis price\n",
    "        diff = h_price - price[index] \n",
    "        theta[0] = theta[0] - alpha[0]*diff\n",
    "        deriv = diff * area[index,1]\n",
    "        theta[1] = theta[1] - alpha[1]*deriv\n",
    "        print('Cost: %.3f, theta %.3f %.3f'%(calcCost(diff),theta[0],theta[1]))\n",
    "    return theta\n",
    "\n",
    "# normal method for linear regression (analytical)\n",
    "def norm(area,prices):\n",
    "    m1 = np.linalg.inv(np.matmul(area.T,area))\n",
    "    m2 = np.matmul(area.T,prices)\n",
    "    theta = np.matmul(m1,m2.T)\n",
    "    return theta\n",
    "    \n",
    "\n",
    "# read airbnb data\n",
    "df = pd.read_csv('../Airbnb/listings_summary.csv')\n",
    "\n",
    "# filter data -> analyze price vs square_feet\n",
    "df_np = df[['neighbourhood','price','square_feet']]\n",
    "\n",
    "# drop nans, get rid of 0 areas\n",
    "df_np = df_np.dropna()\n",
    "df_np = df_np.loc[df['square_feet']>0]\n",
    "\n",
    "# remove all non-digit chracters and convert prices to ints\n",
    "df_np['price']= df_np['price'].str.replace('\\D', '') \n",
    "df_np['price'] = df_np['price'].astype(int) // 100\n",
    "\n",
    "# group by neighbourhoods\n",
    "groups = df_np.groupby(['neighbourhood'])\n",
    "\n",
    "# get all the price and square feet values for ONLY Mitte\n",
    "mi = groups.get_group('Mitte')\n",
    "price = mi.get('price').values\n",
    "area = mi.get('square_feet').values\n",
    "\n",
    "# perform linear regression using y=kx (find k that minimizes mean square cost)\n",
    "method = 'norm' #bgd, sgd or normal\n",
    "area_scaled = np.reshape(np.concatenate((np.ones(area.size),area)),(2,area.size)).T\n",
    "\n",
    "# initial guess for theta (weightings) and alpha (learning rate)  \n",
    "theta = np.reshape(np.zeros(2),(2,1))\n",
    "alpha = np.reshape([0.03,0.000001],(2,1)) # Learning rate for sgd/bgd\n",
    "\n",
    "# bgd method\n",
    "if method == 'bgd':\n",
    "    iterations = 30\n",
    "    for i in range(0,iterations,1):\n",
    "        theta = bgd(alpha,theta,area_scaled,price)\n",
    "\n",
    "# sgd method\n",
    "elif method == 'sgd':\n",
    "    iterations = 30\n",
    "    for i in range(0,iterations):\n",
    "        theta = sgd(alpha,theta,area_scaled,price)\n",
    "    \n",
    "# normal method\n",
    "elif method == 'norm':\n",
    "    theta = norm(area_scaled,price)\n",
    "\n",
    "theta = np.reshape(theta,(1,2))\n",
    "h_final = np.matmul(theta,area_scaled.T)\n",
    "\n",
    "print('Equation of straight line: y = %.2fx + %.2f' %(theta[0,0],theta[0,1]))\n",
    "\n",
    "plt.plot(area,h_final.T)\n",
    "plt.scatter(area,price)\n",
    "plt.xlabel('square feet')\n",
    "plt.ylabel('price')\n",
    "plt.legend(['Linear Fit','Samples'])\n",
    "plt.show()"
   ]
  },
  {
   "cell_type": "code",
   "execution_count": 24,
   "metadata": {},
   "outputs": [
    {
     "name": "stdout",
     "output_type": "stream",
     "text": [
      "Equation of straight line: y=0.05x + 41.74\n"
     ]
    },
    {
     "data": {
      "image/png": "[encoded data removed]",
      "text/plain": [
       "<matplotlib.figure.Figure at 0x2468d818fd0>"
      ]
     },
     "metadata": {},
     "output_type": "display_data"
    }
   ],
   "source": [
    "## Using Sci-Kit Learn to generate the linear model\n",
    "\n",
    "import pandas as pd\n",
    "import numpy as np\n",
    "from sklearn import linear_model\n",
    "from sklearn.model_selection import train_test_split\n",
    "\n",
    "# read airbnb data\n",
    "df = pd.read_csv('../Airbnb/listings_summary.csv')\n",
    "\n",
    "# filter data -> analyze price vs square_feet\n",
    "df_np = df[['price','square_feet']]\n",
    "\n",
    "# drop nans, get rid of 0 areas\n",
    "df_np = df_np.dropna()\n",
    "df_np = df_np.loc[df['square_feet']>0]\n",
    "\n",
    "# remove all non-digit chracters and convert prices to ints\n",
    "df_np['price']= df_np['price'].str.replace('\\D', '') \n",
    "df_np['price'] = df_np['price'].astype(int) // 100\n",
    "\n",
    "# extract all prices and areas\n",
    "price = df_np['price'].values\n",
    "area = df_np['square_feet'].values\n",
    "\n",
    "# generate train and test data\n",
    "X_train, X_test, y_train, y_test = train_test_split(area.reshape(-1,1),price.reshape(-1,1))\n",
    "# train model\n",
    "regr = linear_model.LinearRegression()\n",
    "regr.fit(X_train,y_train)\n",
    "\n",
    "# test model \n",
    "y_pred = regr.predict(X_test)\n",
    "\n",
    "# print coefficients\n",
    "print('Equation of straight line: y = %.2fx + %.2f' %(regr.coef_,regr.intercept_))\n",
    "\n",
    "# plot prediction\n",
    "plt.scatter(X_test, y_test,  color='black')\n",
    "plt.plot(X_test, y_pred, color='blue', linewidth=3)\n",
    "plt.xlabel('area')\n",
    "plt.ylabel('price')\n",
    "plt.legend(['predicted line','test samples'])\n",
    "plt.show()\n",
    "\n"
   ]
  },
  {
   "cell_type": "code",
   "execution_count": null,
   "metadata": {
    "collapsed": true
   },
   "outputs": [],
   "source": []
  }
 ],
 "metadata": {
  "kernelspec": {
   "display_name": "Python 3",
   "language": "python",
   "name": "python3"
  },
  "language_info": {
   "codemirror_mode": {
    "name": "ipython",
    "version": 3
   },
   "file_extension": ".py",
   "mimetype": "text/x-python",
   "name": "python",
   "nbconvert_exporter": "python",
   "pygments_lexer": "ipython3",
   "version": "3.6.1"
  }
 },
 "nbformat": 4,
 "nbformat_minor": 2
}
